{
 "cells": [
  {
   "cell_type": "markdown",
   "metadata": {},
   "source": [
    "# **Codificar y Decodificar archivos en base64**"
   ]
  },
  {
   "cell_type": "code",
   "execution_count": 57,
   "metadata": {},
   "outputs": [],
   "source": [
    "from base64 import b64encode, b64decode\n",
    "import os"
   ]
  },
  {
   "cell_type": "markdown",
   "metadata": {},
   "source": [
    "## **Codificar Archivos**"
   ]
  },
  {
   "cell_type": "markdown",
   "metadata": {},
   "source": [
    "Este bloque de código nos permite **codificar archivos**  a cadena en bas64 <br>\n",
    "Se debe especificar la ruta del archivo en la variable **file_path** <br>\n",
    "Luego se guardará el archivo en la ruta especificada en la variable **DEFAULT_PATH_OUT**, por default sera la carpeta *out/base64/code*"
   ]
  },
  {
   "cell_type": "code",
   "execution_count": null,
   "metadata": {},
   "outputs": [],
   "source": [
    "DEFAULT_PATH_OUT = r\"C:\\Personal_Projects\\Personal_Helpers\\out\\base64\\code\"\n",
    "file_path = r''\n",
    "\n",
    "try:\n",
    "    with open (file_path, 'rb') as file:\n",
    "        read_file = file.read()\n",
    "        encode_file = b64encode(read_file)\n",
    "\n",
    "    file_name = file_path.split('\\\\')[-1]\n",
    "    output_path = os.path.join(DEFAULT_PATH_OUT,file_name) \n",
    "\n",
    "    if os.path.exists(output_path):\n",
    "        os.remove(output_path)\n",
    "\n",
    "    with open(output_path, 'wb') as output_file:\n",
    "            output_file.write(encode_file)\n",
    "    print (\"Encode Successfully\") \n",
    "except Exception as e:\n",
    "    print(f\"Error: {str(e)}\")\n"
   ]
  },
  {
   "cell_type": "markdown",
   "metadata": {},
   "source": [
    "## **Codificar Cadenas de texto**"
   ]
  },
  {
   "cell_type": "markdown",
   "metadata": {},
   "source": [
    "Este bloque de código nos permite **codificar strings**  a cadena en bas64 <br>\n",
    "Se debe pasar como parametro el **String** que se desea codificar <br>\n",
    "Se recibirá como respuesta el **equivalete** al **string** codificado en **base64**"
   ]
  },
  {
   "cell_type": "code",
   "execution_count": null,
   "metadata": {},
   "outputs": [],
   "source": [
    "text = \"\"\n",
    "\n",
    "text_str = str(text)\n",
    "try:\n",
    "    encode_text = b64encode(text_str.encode())\n",
    "    print(encode_text)\n",
    "except Exception as e:\n",
    "    print (f\"Error: {str(e)}\")\n"
   ]
  },
  {
   "cell_type": "markdown",
   "metadata": {},
   "source": [
    "## **Decodificar Archivos**"
   ]
  },
  {
   "cell_type": "markdown",
   "metadata": {},
   "source": [
    "Este bloque de código nos permite **decodificar archivos**  de base65 a cadenas normales <br>\n",
    "Se debe especificar la ruta del archivo en la variable **file_path** <br>\n",
    "Luego se guardará el archivo en la ruta especificada en la variable **DEFAULT_PATH_OUT**, por default sera la carpeta *out/base64/decode*"
   ]
  },
  {
   "cell_type": "code",
   "execution_count": null,
   "metadata": {},
   "outputs": [],
   "source": [
    "DEFAULT_PATH_OUT = r\"C:\\Personal_Projects\\Personal_Helpers\\out\\base64\\decode\"\n",
    "file_path = r''\n",
    "\n",
    "try:\n",
    "    with open (file_path, 'rb') as file:\n",
    "        read_file = file.read()\n",
    "        encode_file = b64decode(read_file)\n",
    "\n",
    "    file_name = file_path.split('\\\\')[-1]\n",
    "    output_path = os.path.join(DEFAULT_PATH_OUT,file_name) \n",
    "\n",
    "    if os.path.exists(output_path):\n",
    "        os.remove(output_path)\n",
    "\n",
    "    with open(output_path, 'wb') as output_file:\n",
    "            output_file.write(encode_file)\n",
    "    print (\"Decode Successfully\") \n",
    "except Exception as e:\n",
    "    print(f\"Error: {str(e)}\")"
   ]
  },
  {
   "cell_type": "markdown",
   "metadata": {},
   "source": [
    "## **Decodificar Cadenas de texto**"
   ]
  },
  {
   "cell_type": "markdown",
   "metadata": {},
   "source": [
    "Este bloque de código nos permite **decodificar strings**  de base64 a cadenas de texto <br>\n",
    "Se debe pasar como parametro el **String en base64** que se desea decodificar <br>\n",
    "Se recibirá como respuesta el **equivalete** al **string en base64** decodificado en **string**"
   ]
  },
  {
   "cell_type": "code",
   "execution_count": null,
   "metadata": {},
   "outputs": [],
   "source": [
    "text_64 = \"\"\n",
    "\n",
    "try:\n",
    "    decoded_bytes = b64decode(text_64)\n",
    "    decode_text = decoded_bytes.decode('utf-8')\n",
    "    text_str = str(decode_text)\n",
    "    print(text_str)\n",
    "except Exception as e:\n",
    "    print (f\"Error: {str(e)}\")\n"
   ]
  }
 ],
 "metadata": {
  "kernelspec": {
   "display_name": "personal_helper",
   "language": "python",
   "name": "python3"
  },
  "language_info": {
   "codemirror_mode": {
    "name": "ipython",
    "version": 3
   },
   "file_extension": ".py",
   "mimetype": "text/x-python",
   "name": "python",
   "nbconvert_exporter": "python",
   "pygments_lexer": "ipython3",
   "version": "3.9.10"
  },
  "orig_nbformat": 4
 },
 "nbformat": 4,
 "nbformat_minor": 2
}
