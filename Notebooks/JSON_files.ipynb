{
 "cells": [
  {
   "cell_type": "markdown",
   "metadata": {},
   "source": [
    "# **Manipulación de archivos .JSON**"
   ]
  },
  {
   "cell_type": "code",
   "execution_count": 29,
   "metadata": {},
   "outputs": [],
   "source": [
    "import pandas as pd\n",
    "import os"
   ]
  },
  {
   "cell_type": "markdown",
   "metadata": {},
   "source": [
    "## **Convertir archivos .parquet en JSON**"
   ]
  },
  {
   "cell_type": "markdown",
   "metadata": {},
   "source": [
    "Este bloque de código nos permite convertir archivos en formato  **.parquet** a archvios en formato **.json** <br>\n",
    "Se debe especificar la ruta del archivo en la variable **file_path** <br>\n",
    "Luego se guardará el archivo en la ruta especificada en la variable **DEFAULT_PATH_OUT**, por default sera la carpeta *Output/json_files/parquet_to_json*"
   ]
  },
  {
   "cell_type": "code",
   "execution_count": 39,
   "metadata": {},
   "outputs": [
    {
     "name": "stdout",
     "output_type": "stream",
     "text": [
      "File converted successfully\n"
     ]
    }
   ],
   "source": [
    "DEFAULT_PATH_OUT = r\"C:\\Personal_Projects\\Personal_Helpers\\Output\\json_files\\parquet_to_json\"\n",
    "file_path = r'C:\\Users\\juan.pablo.t.pabon\\Downloads\\informe_cartera.parquet'\n",
    "\n",
    "columns_date = ['fecha_venc_neto', 'fecha_aplaza', 'fecha_comp', 'fecha_contab', 'fecha_stamp']\n",
    "\n",
    "try:\n",
    "    parquet_file = pd.read_parquet(file_path, engine=\"fastparquet\")\n",
    "\n",
    "    #Dar fomato a la fecha\n",
    "    for column in columns_date:\n",
    "        parquet_file[column] = (parquet_file[column] - pd.Timestamp('1970-01-01')) // pd.Timedelta(microseconds=1)\n",
    "        parquet_file[column] *= 1000000\n",
    "        parquet_file[column] = pd.to_datetime(parquet_file[column], unit=\"us\")\n",
    "\n",
    "    json_file = parquet_file.to_json(orient=\"records\", force_ascii= False, date_format=\"iso\")\n",
    "\n",
    "    file_name_with_ext = os.path.basename(file_path)\n",
    "    file_name = file_name_with_ext.split('.')[0]\n",
    "    output_path = os.path.join(DEFAULT_PATH_OUT,f\"{file_name}.json\")\n",
    "\n",
    "    if os.path.exists(output_path):\n",
    "        os.remove(output_path)\n",
    "\n",
    "    with open (output_path,  'w', encoding= \"utf-8\") as output:\n",
    "        output.write(json_file)    \n",
    "        print(\"File converted successfully\")\n",
    "        \n",
    "except Exception as e:\n",
    "    print(f\"Error: {str(e)}\")"
   ]
  }
 ],
 "metadata": {
  "kernelspec": {
   "display_name": "personal_helper",
   "language": "python",
   "name": "python3"
  },
  "language_info": {
   "codemirror_mode": {
    "name": "ipython",
    "version": 3
   },
   "file_extension": ".py",
   "mimetype": "text/x-python",
   "name": "python",
   "nbconvert_exporter": "python",
   "pygments_lexer": "ipython3",
   "version": "3.9.10"
  },
  "orig_nbformat": 4
 },
 "nbformat": 4,
 "nbformat_minor": 2
}
