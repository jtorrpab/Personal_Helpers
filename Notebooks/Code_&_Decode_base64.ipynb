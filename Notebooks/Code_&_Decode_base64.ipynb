{
 "cells": [
  {
   "cell_type": "markdown",
   "metadata": {},
   "source": [
    "# **Codificar y Decodificar archivos en base64**"
   ]
  },
  {
   "cell_type": "code",
   "execution_count": 1,
   "metadata": {},
   "outputs": [],
   "source": [
    "import os\n",
    "from base64 import b64encode, b64decode\n",
    "from decouple import config\n"
   ]
  },
  {
   "cell_type": "markdown",
   "metadata": {},
   "source": [
    "## **Codificar Archivos**"
   ]
  },
  {
   "cell_type": "markdown",
   "metadata": {},
   "source": [
    "Este bloque de código nos permite **codificar archivos**  a cadena en bas64 <br>\n",
    "Se debe especificar la ruta del archivo en la variable **file_path** <br>\n",
    "Luego se guardará el archivo en la ruta especificada en la variable **DEFAULT_PATH_OUT**, por default sera la carpeta *Default_output/base64/code*"
   ]
  },
  {
   "cell_type": "code",
   "execution_count": 3,
   "metadata": {},
   "outputs": [
    {
     "name": "stdout",
     "output_type": "stream",
     "text": [
      "Encode Successfully\n"
     ]
    }
   ],
   "source": [
    "default_folder_output = config('DEFAULT_PATH')\n",
    "output_folder = 'base64\\code'\n",
    "output_path = f'{default_folder_output}{output_folder}'\n",
    "\n",
    "default_file_path = config('FILE_PATH')\n",
    "file_name = ''\n",
    "file_path = f'{default_file_path}{file_name}'\n",
    "\n",
    "try:\n",
    "    with open (file_path, 'rb') as file:\n",
    "        read_file = file.read()\n",
    "        encode_file = b64encode(read_file)\n",
    "\n",
    "    file_name = file_path.split('\\\\')[-1]\n",
    "    output_path = os.path.join(output_path,file_name) \n",
    "\n",
    "    if os.path.exists(output_path):\n",
    "        os.remove(output_path)\n",
    "\n",
    "    with open(output_path, 'wb') as output_file:\n",
    "            output_file.write(encode_file)\n",
    "    print (\"Encode Successfully\") \n",
    "except Exception as e:\n",
    "    print(f\"Error: {str(e)}\")\n"
   ]
  },
  {
   "cell_type": "markdown",
   "metadata": {},
   "source": [
    "## **Decodificar Archivos**"
   ]
  },
  {
   "cell_type": "markdown",
   "metadata": {},
   "source": [
    "Este bloque de código nos permite **decodificar archivos**  de base65 a cadenas normales <br>\n",
    "Se debe especificar la ruta del archivo en la variable **file_path** <br>\n",
    "Luego se guardará el archivo en la ruta especificada en la variable **DEFAULT_PATH_OUT**, por default sera la carpeta *Default_output/base64/decode*"
   ]
  },
  {
   "cell_type": "code",
   "execution_count": 4,
   "metadata": {},
   "outputs": [
    {
     "name": "stdout",
     "output_type": "stream",
     "text": [
      "Decode Successfully\n"
     ]
    }
   ],
   "source": [
    "default_folder_output = config('DEFAULT_PATH')\n",
    "output_folder = 'base64\\decode'\n",
    "output_path = f'{default_folder_output}{output_folder}'\n",
    "\n",
    "default_file_path = config('FILE_PATH')\n",
    "file_name = ''\n",
    "file_path = f'{default_file_path}{file_name}'\n",
    "\n",
    "try:\n",
    "    with open (file_path, 'rb') as file:\n",
    "        read_file = file.read()\n",
    "        encode_file = b64decode(read_file)\n",
    "\n",
    "    file_name = file_path.split('\\\\')[-1]\n",
    "    output_path = os.path.join(output_path,file_name) \n",
    "\n",
    "    if os.path.exists(output_path):\n",
    "        os.remove(output_path)\n",
    "\n",
    "    with open(output_path, 'wb') as output_file:\n",
    "            output_file.write(encode_file)\n",
    "    print (\"Decode Successfully\") \n",
    "except Exception as e:\n",
    "    print(f\"Error: {str(e)}\")"
   ]
  }
 ],
 "metadata": {
  "kernelspec": {
   "display_name": "personal_helper",
   "language": "python",
   "name": "python3"
  },
  "language_info": {
   "codemirror_mode": {
    "name": "ipython",
    "version": 3
   },
   "file_extension": ".py",
   "mimetype": "text/x-python",
   "name": "python",
   "nbconvert_exporter": "python",
   "pygments_lexer": "ipython3",
   "version": "3.9.10"
  },
  "orig_nbformat": 4
 },
 "nbformat": 4,
 "nbformat_minor": 2
}
