{
 "cells": [
  {
   "cell_type": "markdown",
   "metadata": {},
   "source": [
    "# **Leer archivos .parquet**\n"
   ]
  },
  {
   "cell_type": "markdown",
   "metadata": {},
   "source": [
    "Para iniciar se debe installar pandas <br> \n",
    "*pip install pandas*"
   ]
  },
  {
   "cell_type": "markdown",
   "metadata": {},
   "source": [
    "En este bloque de code se imoprta pandas para leer el archivo en la variable **file_path**<br>\n",
    "Se lee el archivo utilizando **pandas** <br>\n",
    "Se usa engine como motor para la lectura **pyarrow** para parquet<br><br>\n",
    "Si se descomenta **df.head()** se podrá ver el DataFrame, igualmente se puede pasar un parametro a la función head para ver *n* columnas"
   ]
  },
  {
   "cell_type": "code",
   "execution_count": 18,
   "metadata": {},
   "outputs": [],
   "source": [
    "import pandas as pd \n",
    "\n",
    "file_path = r'C:\\Users\\juan.pablo.t.pabon\\Downloads\\informe_cartera.parquet'\n",
    "df = pd.read_parquet(file_path, engine='pyarrow')\n",
    "#df.head()"
   ]
  },
  {
   "cell_type": "markdown",
   "metadata": {},
   "source": [
    "Se filtran las columnas que se desan ver dentro del cector y con la función **df.head()** selecciono cuantos registros deseo ver"
   ]
  },
  {
   "cell_type": "code",
   "execution_count": null,
   "metadata": {},
   "outputs": [],
   "source": [
    "df[['col_1', 'col_2', 'col_n']].head(5)"
   ]
  }
 ],
 "metadata": {
  "kernelspec": {
   "display_name": "personal_helper",
   "language": "python",
   "name": "python3"
  },
  "language_info": {
   "codemirror_mode": {
    "name": "ipython",
    "version": 3
   },
   "file_extension": ".py",
   "mimetype": "text/x-python",
   "name": "python",
   "nbconvert_exporter": "python",
   "pygments_lexer": "ipython3",
   "version": "3.10.11"
  },
  "orig_nbformat": 4
 },
 "nbformat": 4,
 "nbformat_minor": 2
}
