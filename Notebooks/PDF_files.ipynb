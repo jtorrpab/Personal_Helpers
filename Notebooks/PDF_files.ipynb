{
 "cells": [
  {
   "cell_type": "markdown",
   "metadata": {},
   "source": [
    "# **Manipulación de archivos PDF**"
   ]
  },
  {
   "cell_type": "markdown",
   "metadata": {},
   "source": [
    "Para iniciar se debe installar apose-words <br> \n",
    "*pip install pdf2docx*"
   ]
  },
  {
   "cell_type": "code",
   "execution_count": 2,
   "metadata": {},
   "outputs": [],
   "source": [
    "from pdf2docx import Converter \n",
    "import os"
   ]
  },
  {
   "cell_type": "markdown",
   "metadata": {},
   "source": [
    "## **Convertir archivos PDF a word**"
   ]
  },
  {
   "cell_type": "markdown",
   "metadata": {},
   "source": [
    "En este bloque de código se pueden convertir archivos en formato **PDF a Word** <br>\n",
    "Es necesario especificar la ruta del archivo que se desea convertir en la variable **file_path** <br>\n",
    "El archivo se guardara por defecto en la ruta de la varibale **DEFAULT_PATH_OUT**, la cual apunta a la ruta Default_output/pdf_files/to_word"
   ]
  },
  {
   "cell_type": "code",
   "execution_count": null,
   "metadata": {},
   "outputs": [],
   "source": [
    "DEFAULT_PATH_OUT = r\"Output\\pdf_files\\to_word\"\n",
    "file_path = r\"\"\n",
    "\n",
    "try:\n",
    "    docx_file = Converter(file_path)   \n",
    "    file_name_with_ext = os.path.basename(file_path)\n",
    "    file_name = file_name_with_ext.split('.')[0]\n",
    "    output_path = os.path.join(DEFAULT_PATH_OUT,f\"{file_name}.docx\")\n",
    "\n",
    "    if os.path.exists(output_path):\n",
    "        os.remove(output_path)\n",
    "\n",
    "    docx_file.convert(output_path)\n",
    "    print(\"File converted successfully\")\n",
    "    docx_file.close()\n",
    "\n",
    "except Exception as e:\n",
    "    print(f\"Error: {str(e)}\")"
   ]
  },
  {
   "cell_type": "markdown",
   "metadata": {},
   "source": [
    "## **Bloquear o Encriptar PDF**"
   ]
  },
  {
   "cell_type": "markdown",
   "metadata": {},
   "source": [
    "Instalar la libreria PyPDF2<br>\n",
    "*pip install PyPDF2*"
   ]
  },
  {
   "cell_type": "code",
   "execution_count": 3,
   "metadata": {},
   "outputs": [],
   "source": [
    "from PyPDF2 import PdfReader, PdfWriter\n",
    "import os"
   ]
  },
  {
   "cell_type": "markdown",
   "metadata": {},
   "source": [
    "En este bloque de código se puede **bloquear un archvio PDF** <br>\n",
    "Es necesario especificar la ruta del archivo que se desea bloquear en la variable **file_path** y la contraseña en la variable **Key** <br>\n",
    "El archivo se guardara por defecto en la ruta de la varibale **DEFAULT_PATH_OUT**, la cual apunta a la ruta Default_output/pdf_files/locked"
   ]
  },
  {
   "cell_type": "code",
   "execution_count": 13,
   "metadata": {},
   "outputs": [],
   "source": [
    "DEFAULT_PATH_OUT = r\"Output\\pdf_files\\locked\"\n",
    "file_path = r\"\"\n",
    "key = \"\"\n",
    "\n",
    "try:\n",
    "    with open(file_path, 'rb') as pdf_file:\n",
    "\n",
    "        pdf_reader = PdfReader(pdf_file)\n",
    "        pdf_writer = PdfWriter()\n",
    "\n",
    "        for pag_num in range(len(pdf_reader.pages)):\n",
    "            pdf_writer.add_page(pdf_reader.pages[pag_num])\n",
    "\n",
    "        pdf_writer.encrypt(key)\n",
    "\n",
    "        file_name_with_ext = os.path.basename(file_path)\n",
    "        file_name = file_name_with_ext.split('.')[0]\n",
    "        output_path = os.path.join(DEFAULT_PATH_OUT,f\"{file_name}_encrypted.pdf\")\n",
    "\n",
    "        with open (output_path, 'wb') as output:\n",
    "            pdf_writer.write(output)\n",
    "            print(\"File encryted succssefully\")\n",
    "\n",
    "except Exception as e:\n",
    "    print(f\"Error: {str(e)}\")"
   ]
  },
  {
   "cell_type": "markdown",
   "metadata": {},
   "source": [
    "## **Desbloquear o Desencriptar PDF**"
   ]
  },
  {
   "cell_type": "markdown",
   "metadata": {},
   "source": [
    "En este bloque de código se puede **desbloquear un archvio PDF** <br>\n",
    "Es necesario especificar la ruta del archivo que se desea desbloquear en la variable **file_path** y la contraseña en la variable **Key** <br>\n",
    "El archivo se guardara por defecto en la ruta de la varibale **DEFAULT_PATH_OUT**, la cual apunta a la ruta Default_output/pdf_files/un\n",
    "locked"
   ]
  },
  {
   "cell_type": "code",
   "execution_count": 15,
   "metadata": {},
   "outputs": [
    {
     "name": "stdout",
     "output_type": "stream",
     "text": [
      "File dencryted succssefully\n"
     ]
    }
   ],
   "source": [
    "DEFAULT_PATH_OUT = r\"Output\\pdf_files\\unlocked\"\n",
    "file_path = r\"\"\n",
    "key = \"\"\n",
    "\n",
    "try:\n",
    "    with open(file_path, 'rb') as pdf_file:\n",
    "\n",
    "        pdf_reader = PdfReader(pdf_file)\n",
    "\n",
    "        if pdf_reader.is_encrypted:\n",
    "            pdf_reader.decrypt(key)\n",
    "\n",
    "        pdf_writer = PdfWriter()        \n",
    "\n",
    "        for pag_num in range(len(pdf_reader.pages)):\n",
    "            pdf_writer.add_page(pdf_reader.pages[pag_num])\n",
    "\n",
    "        file_name_with_ext = os.path.basename(file_path)\n",
    "        file_name = file_name_with_ext.split('.')[0]\n",
    "        output_path = os.path.join(DEFAULT_PATH_OUT,f\"{file_name}_dencrypted.pdf\")\n",
    "\n",
    "        with open (output_path, 'wb') as output:\n",
    "            pdf_writer.write(output)\n",
    "            print(\"File dencryted succssefully\")\n",
    "\n",
    "except Exception as e:\n",
    "    print(f\"Error: {str(e)}\")"
   ]
  }
 ],
 "metadata": {
  "kernelspec": {
   "display_name": "helpers",
   "language": "python",
   "name": "python3"
  },
  "language_info": {
   "codemirror_mode": {
    "name": "ipython",
    "version": 3
   },
   "file_extension": ".py",
   "mimetype": "text/x-python",
   "name": "python",
   "nbconvert_exporter": "python",
   "pygments_lexer": "ipython3",
   "version": "3.9.10"
  },
  "orig_nbformat": 4
 },
 "nbformat": 4,
 "nbformat_minor": 2
}
