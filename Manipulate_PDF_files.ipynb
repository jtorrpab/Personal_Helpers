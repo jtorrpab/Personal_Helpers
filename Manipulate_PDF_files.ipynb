{
 "cells": [
  {
   "cell_type": "markdown",
   "metadata": {},
   "source": [
    "# **Manipulación de archivos PDF**"
   ]
  },
  {
   "cell_type": "markdown",
   "metadata": {},
   "source": [
    "Para iniciar se debe installar apose-words <br> \n",
    "*pip install pdf2docx*"
   ]
  },
  {
   "cell_type": "code",
   "execution_count": 8,
   "metadata": {},
   "outputs": [],
   "source": [
    "from pdf2docx import Converter \n",
    "import os"
   ]
  },
  {
   "cell_type": "markdown",
   "metadata": {},
   "source": [
    "## **Convertir archivos PDF a word**"
   ]
  },
  {
   "cell_type": "markdown",
   "metadata": {},
   "source": [
    "En este bloque de código se pueden convertir archivos en formato **PDF a Word** <br>\n",
    "Es necesario especificar la ruta del archivo que se desea convertir en la variable **file_path** <br>\n",
    "El archivo se guardara por defecto en la ruta de la varibale **DEFAULT_PATH_OUT**, la cual apunta a la ruta Default_output/pdf_files/to_word"
   ]
  },
  {
   "cell_type": "code",
   "execution_count": null,
   "metadata": {},
   "outputs": [],
   "source": [
    "DEFAULT_PATH_OUT = r\"C:\\Proyectos\\Personal_Helpers\\Default_output\\pdf_files\\to_word\"\n",
    "file_path = r'C:\\Users\\juanp\\Downloads\\Manipulate_PDF_files_test.pdf'\n",
    "\n",
    "try:\n",
    "    docx_file = Converter(file_path)   \n",
    "    file_name_with_ext = file_path.split('\\\\')[-1]\n",
    "    file_name = file_name_with_ext.split('.')[0]\n",
    "    output_path = os.path.join(DEFAULT_PATH_OUT,file_name+\".docx\")  \n",
    "    if os.path.exists(output_path):\n",
    "        os.remove(output_path)\n",
    "\n",
    "    docx_file.convert(output_path)\n",
    "    print(\"File converted successfully\")\n",
    "    docx_file.close()\n",
    "except Exception as e:\n",
    "    print(f\"Error: {str(e)}\")"
   ]
  },
  {
   "cell_type": "markdown",
   "metadata": {},
   "source": [
    "## **Bloquear o Encriptar PDF**"
   ]
  },
  {
   "cell_type": "markdown",
   "metadata": {},
   "source": [
    "Instalar la libreria PyPDF2<br>\n",
    "*pip install PyPDF2*"
   ]
  },
  {
   "cell_type": "code",
   "execution_count": 25,
   "metadata": {},
   "outputs": [],
   "source": [
    "import PyPDF2"
   ]
  },
  {
   "cell_type": "markdown",
   "metadata": {},
   "source": [
    "En este bloque de código se puede **bloquear un archvio PDF** <br>\n",
    "Es necesario especificar la ruta del archivo que se desea bloquear en la variable **file_path** y la contraseña en la variable **Key** <br>\n",
    "El archivo se guardara por defecto en la ruta de la varibale **DEFAULT_PATH_OUT**, la cual apunta a la ruta Default_output/pdf_files/locked"
   ]
  },
  {
   "cell_type": "code",
   "execution_count": 31,
   "metadata": {},
   "outputs": [
    {
     "name": "stdout",
     "output_type": "stream",
     "text": [
      "Error: reader.getPage(pageNumber) is deprecated and was removed in PyPDF2 3.0.0. Use reader.pages[page_number] instead.\n"
     ]
    }
   ],
   "source": [
    "DEFAULT_PATH_OUT = r\"C:\\Proyectos\\Personal_Helpers\\Default_output\\pdf_files\\to_word\"\n",
    "file_path = r'C:\\Users\\juanp\\Downloads\\Manipulate_PDF_files_test.pdf'\n",
    "key = \"12345\"\n",
    "\n",
    "try:\n",
    "    print(\"Processing...\")\n",
    "except Exception as e:\n",
    "    print(f\"Error: {str(e)}\")"
   ]
  },
  {
   "cell_type": "markdown",
   "metadata": {},
   "source": [
    "## **Desbloquear o Desencriptar PDF**"
   ]
  },
  {
   "cell_type": "markdown",
   "metadata": {},
   "source": [
    "En este bloque de código se puede **desbloquear un archvio PDF** <br>\n",
    "Es necesario especificar la ruta del archivo que se desea desbloquear en la variable **file_path** y la contraseña en la variable **Key** <br>\n",
    "El archivo se guardara por defecto en la ruta de la varibale **DEFAULT_PATH_OUT**, la cual apunta a la ruta Default_output/pdf_files/un\n",
    "locked"
   ]
  },
  {
   "cell_type": "code",
   "execution_count": null,
   "metadata": {},
   "outputs": [],
   "source": [
    "DEFAULT_PATH_OUT = r\"C:\\Proyectos\\Personal_Helpers\\Default_output\\pdf_files\\to_word\"\n",
    "file_path = r'C:\\Users\\juanp\\Downloads\\Manipulate_PDF_files_test.pdf'\n",
    "key = \"12345\"\n",
    "\n",
    "try:\n",
    "    print(\"Processing...\")\n",
    "except Exception as e:\n",
    "    print(f\"Error: {str(e)}\")"
   ]
  }
 ],
 "metadata": {
  "kernelspec": {
   "display_name": "helpers",
   "language": "python",
   "name": "python3"
  },
  "language_info": {
   "codemirror_mode": {
    "name": "ipython",
    "version": 3
   },
   "file_extension": ".py",
   "mimetype": "text/x-python",
   "name": "python",
   "nbconvert_exporter": "python",
   "pygments_lexer": "ipython3",
   "version": "3.10.11"
  },
  "orig_nbformat": 4
 },
 "nbformat": 4,
 "nbformat_minor": 2
}
